{
 "cells": [
  {
   "cell_type": "code",
   "execution_count": 1,
   "id": "15afc346-3794-4b63-8639-3bd663f1f4e1",
   "metadata": {},
   "outputs": [
    {
     "name": "stderr",
     "output_type": "stream",
     "text": [
      "Updating HTML index of packages in '.Library'\n",
      "\n",
      "Making 'packages.html' ...\n",
      " done\n",
      "\n"
     ]
    }
   ],
   "source": [
    "install.packages(\"BiocManager\")"
   ]
  },
  {
   "cell_type": "code",
   "execution_count": 1,
   "id": "606cb385-c6f2-4122-a23b-b1a8df19cedb",
   "metadata": {},
   "outputs": [],
   "source": [
    "library(BiocManager)"
   ]
  },
  {
   "cell_type": "code",
   "execution_count": 3,
   "id": "5c9cfc92-116f-446d-b821-4b5af5e7e930",
   "metadata": {},
   "outputs": [
    {
     "data": {
      "text/plain": [
       "[1] ‘3.18’"
      ]
     },
     "metadata": {},
     "output_type": "display_data"
    }
   ],
   "source": [
    "version()"
   ]
  },
  {
   "cell_type": "code",
   "execution_count": 6,
   "id": "1301623a-c516-495e-8206-6f43ec4e12fc",
   "metadata": {},
   "outputs": [
    {
     "name": "stderr",
     "output_type": "stream",
     "text": [
      "'getOption(\"repos\")' replaces Bioconductor standard repositories, see\n",
      "'help(\"repositories\", package = \"BiocManager\")' for details.\n",
      "Replacement repositories:\n",
      "    CRAN: https://cran.r-project.org\n",
      "\n",
      "Bioconductor version 3.18 (BiocManager 1.30.22), R 4.3.2 (2023-10-31)\n",
      "\n",
      "Installing package(s) 'BiocVersion', 'edgeR'\n",
      "\n",
      "also installing the dependencies ‘statmod’, ‘limma’, ‘locfit’\n",
      "\n",
      "\n",
      "Updating HTML index of packages in '.Library'\n",
      "\n",
      "Making 'packages.html' ...\n",
      " done\n",
      "\n",
      "Old packages: 'beachmat', 'callr', 'DBI', 'DT', 'HDF5Array', 'igraph',\n",
      "  'parallelly', 'survival', 'usethis'\n",
      "\n"
     ]
    }
   ],
   "source": [
    "BiocManager::install(\"edgeR\")"
   ]
  },
  {
   "cell_type": "code",
   "execution_count": 8,
   "id": "7d944353-4c1f-4de0-9d62-0c02545987b0",
   "metadata": {},
   "outputs": [
    {
     "name": "stderr",
     "output_type": "stream",
     "text": [
      "Updating HTML index of packages in '.Library'\n",
      "\n",
      "Making 'packages.html' ...\n",
      " done\n",
      "\n"
     ]
    }
   ],
   "source": [
    "install.packages(\"reshape\")"
   ]
  },
  {
   "cell_type": "code",
   "execution_count": 9,
   "id": "7de44301-953d-4673-918c-9bfafc3b3604",
   "metadata": {},
   "outputs": [
    {
     "name": "stderr",
     "output_type": "stream",
     "text": [
      "Updating HTML index of packages in '.Library'\n",
      "\n",
      "Making 'packages.html' ...\n",
      " done\n",
      "\n"
     ]
    }
   ],
   "source": [
    "install.packages(\"reshape2\")"
   ]
  },
  {
   "cell_type": "code",
   "execution_count": 10,
   "id": "42946de0-6ef2-4959-a6ec-9a90eee0ecd3",
   "metadata": {},
   "outputs": [
    {
     "name": "stderr",
     "output_type": "stream",
     "text": [
      "Updating HTML index of packages in '.Library'\n",
      "\n",
      "Making 'packages.html' ...\n",
      " done\n",
      "\n"
     ]
    }
   ],
   "source": [
    "install.packages(\"ggplot2\")"
   ]
  },
  {
   "cell_type": "code",
   "execution_count": 20,
   "id": "47e30fbe-0c3a-47c4-b419-413c7da3611f",
   "metadata": {},
   "outputs": [
    {
     "name": "stderr",
     "output_type": "stream",
     "text": [
      "'getOption(\"repos\")' replaces Bioconductor standard repositories, see\n",
      "'help(\"repositories\", package = \"BiocManager\")' for details.\n",
      "Replacement repositories:\n",
      "    CRAN: https://cran.r-project.org\n",
      "\n",
      "Bioconductor version 3.18 (BiocManager 1.30.22), R 4.3.2 (2023-10-31)\n",
      "\n",
      "Installing package(s) 'clusterProfiler'\n",
      "\n",
      "Updating HTML index of packages in '.Library'\n",
      "\n",
      "Making 'packages.html' ...\n",
      " done\n",
      "\n",
      "Old packages: 'beachmat', 'BH', 'Biostrings', 'callr', 'cowplot', 'curl',\n",
      "  'data.table', 'DBI', 'DOSE', 'DT', 'GenomeInfoDb', 'ggnewscale', 'GOSemSim',\n",
      "  'HDF5Array', 'MASS', 'parallelly', 'patchwork', 'RCurl', 'RSQLite',\n",
      "  'shadowtext', 'survival', 'tidygraph', 'tidytree', 'usethis', 'yulab.utils'\n",
      "\n"
     ]
    }
   ],
   "source": [
    "BiocManager::install(\"clusterProfiler\",force = TRUE)"
   ]
  },
  {
   "cell_type": "code",
   "execution_count": 1,
   "id": "0306cbb7-40f7-46f0-97e4-9033aeacd786",
   "metadata": {},
   "outputs": [
    {
     "name": "stderr",
     "output_type": "stream",
     "text": [
      "\n",
      "\n",
      "clusterProfiler v4.10.0  For help: https://yulab-smu.top/biomedical-knowledge-mining-book/\n",
      "\n",
      "If you use clusterProfiler in published research, please cite:\n",
      "T Wu, E Hu, S Xu, M Chen, P Guo, Z Dai, T Feng, L Zhou, W Tang, L Zhan, X Fu, S Liu, X Bo, and G Yu. clusterProfiler 4.0: A universal enrichment tool for interpreting omics data. The Innovation. 2021, 2(3):100141\n",
      "\n",
      "\n",
      "Attaching package: ‘clusterProfiler’\n",
      "\n",
      "\n",
      "The following object is masked from ‘package:stats’:\n",
      "\n",
      "    filter\n",
      "\n",
      "\n"
     ]
    }
   ],
   "source": [
    "library(clusterProfiler)"
   ]
  },
  {
   "cell_type": "code",
   "execution_count": 23,
   "id": "2db3fc25-081f-4f65-b343-ea5f31012fc5",
   "metadata": {},
   "outputs": [
    {
     "name": "stderr",
     "output_type": "stream",
     "text": [
      "'getOption(\"repos\")' replaces Bioconductor standard repositories, see\n",
      "'help(\"repositories\", package = \"BiocManager\")' for details.\n",
      "Replacement repositories:\n",
      "    CRAN: https://cran.r-project.org\n",
      "\n",
      "Bioconductor version 3.18 (BiocManager 1.30.22), R 4.3.2 (2023-10-31)\n",
      "\n",
      "Installing package(s) 'pathview'\n",
      "\n",
      "Updating HTML index of packages in '.Library'\n",
      "\n",
      "Making 'packages.html' ...\n",
      " done\n",
      "\n",
      "Old packages: 'beachmat', 'BH', 'Biostrings', 'callr', 'cowplot', 'curl',\n",
      "  'data.table', 'DBI', 'DOSE', 'DT', 'GenomeInfoDb', 'ggnewscale', 'GOSemSim',\n",
      "  'HDF5Array', 'MASS', 'parallelly', 'patchwork', 'RCurl', 'RSQLite',\n",
      "  'shadowtext', 'survival', 'tidygraph', 'tidytree', 'usethis', 'yulab.utils'\n",
      "\n"
     ]
    }
   ],
   "source": [
    "BiocManager::install(\"pathview\",force = TRUE)"
   ]
  },
  {
   "cell_type": "code",
   "execution_count": 2,
   "id": "1d4f3bd2-332e-43cc-b063-f7dd75ea3318",
   "metadata": {},
   "outputs": [
    {
     "name": "stderr",
     "output_type": "stream",
     "text": [
      "\n",
      "\n",
      "##############################################################################\n",
      "Pathview is an open source software package distributed under GNU General\n",
      "Public License version 3 (GPLv3). Details of GPLv3 is available at\n",
      "http://www.gnu.org/licenses/gpl-3.0.html. Particullary, users are required to\n",
      "formally cite the original Pathview paper (not just mention it) in publications\n",
      "or products. For details, do citation(\"pathview\") within R.\n",
      "\n",
      "The pathview downloads and uses KEGG data. Non-academic uses may require a KEGG\n",
      "license agreement (details at http://www.kegg.jp/kegg/legal.html).\n",
      "##############################################################################\n",
      "\n"
     ]
    }
   ],
   "source": [
    "library(pathview)"
   ]
  },
  {
   "cell_type": "code",
   "execution_count": 3,
   "id": "d65b1ab4-2843-4e8b-8adf-88a8d79cf06f",
   "metadata": {},
   "outputs": [
    {
     "name": "stderr",
     "output_type": "stream",
     "text": [
      "'getOption(\"repos\")' replaces Bioconductor standard repositories, see\n",
      "'help(\"repositories\", package = \"BiocManager\")' for details.\n",
      "Replacement repositories:\n",
      "    CRAN: https://cran.r-project.org\n",
      "\n",
      "Bioconductor version 3.18 (BiocManager 1.30.22), R 4.3.2 (2023-10-31)\n",
      "\n",
      "Installing package(s) 'org.Dm.eg.db'\n",
      "\n",
      "Updating HTML index of packages in '.Library'\n",
      "\n",
      "Making 'packages.html' ...\n",
      " done\n",
      "\n",
      "Old packages: 'beachmat', 'BH', 'Biostrings', 'callr', 'cowplot', 'curl',\n",
      "  'data.table', 'DBI', 'DOSE', 'DT', 'GenomeInfoDb', 'ggnewscale', 'GOSemSim',\n",
      "  'HDF5Array', 'MASS', 'parallelly', 'patchwork', 'RCurl', 'RSQLite',\n",
      "  'shadowtext', 'survival', 'tidygraph', 'tidytree', 'usethis', 'yulab.utils'\n",
      "\n"
     ]
    }
   ],
   "source": [
    "BiocManager::install(\"org.Dm.eg.db\")"
   ]
  },
  {
   "cell_type": "code",
   "execution_count": 4,
   "id": "9c57f6c2-92eb-43dd-836f-c8835f8ec794",
   "metadata": {},
   "outputs": [
    {
     "name": "stderr",
     "output_type": "stream",
     "text": [
      "Loading required package: AnnotationDbi\n",
      "\n",
      "Loading required package: stats4\n",
      "\n",
      "Loading required package: BiocGenerics\n",
      "\n",
      "\n",
      "Attaching package: ‘BiocGenerics’\n",
      "\n",
      "\n",
      "The following objects are masked from ‘package:stats’:\n",
      "\n",
      "    IQR, mad, sd, var, xtabs\n",
      "\n",
      "\n",
      "The following objects are masked from ‘package:base’:\n",
      "\n",
      "    anyDuplicated, aperm, append, as.data.frame, basename, cbind,\n",
      "    colnames, dirname, do.call, duplicated, eval, evalq, Filter, Find,\n",
      "    get, grep, grepl, intersect, is.unsorted, lapply, Map, mapply,\n",
      "    match, mget, order, paste, pmax, pmax.int, pmin, pmin.int,\n",
      "    Position, rank, rbind, Reduce, rownames, sapply, setdiff, sort,\n",
      "    table, tapply, union, unique, unsplit, which.max, which.min\n",
      "\n",
      "\n",
      "Loading required package: Biobase\n",
      "\n",
      "Welcome to Bioconductor\n",
      "\n",
      "    Vignettes contain introductory material; view with\n",
      "    'browseVignettes()'. To cite Bioconductor, see\n",
      "    'citation(\"Biobase\")', and for packages 'citation(\"pkgname\")'.\n",
      "\n",
      "\n",
      "Loading required package: IRanges\n",
      "\n",
      "Loading required package: S4Vectors\n",
      "\n",
      "\n",
      "Attaching package: ‘S4Vectors’\n",
      "\n",
      "\n",
      "The following object is masked from ‘package:clusterProfiler’:\n",
      "\n",
      "    rename\n",
      "\n",
      "\n",
      "The following object is masked from ‘package:utils’:\n",
      "\n",
      "    findMatches\n",
      "\n",
      "\n",
      "The following objects are masked from ‘package:base’:\n",
      "\n",
      "    expand.grid, I, unname\n",
      "\n",
      "\n",
      "\n",
      "Attaching package: ‘IRanges’\n",
      "\n",
      "\n",
      "The following object is masked from ‘package:clusterProfiler’:\n",
      "\n",
      "    slice\n",
      "\n",
      "\n",
      "\n",
      "Attaching package: ‘AnnotationDbi’\n",
      "\n",
      "\n",
      "The following object is masked from ‘package:clusterProfiler’:\n",
      "\n",
      "    select\n",
      "\n",
      "\n",
      "\n",
      "\n"
     ]
    }
   ],
   "source": [
    "library(org.Dm.eg.db)"
   ]
  },
  {
   "cell_type": "code",
   "execution_count": 6,
   "id": "4cb9a0aa-e156-469a-b143-f7edf33c5080",
   "metadata": {},
   "outputs": [
    {
     "name": "stderr",
     "output_type": "stream",
     "text": [
      "'getOption(\"repos\")' replaces Bioconductor standard repositories, see\n",
      "'help(\"repositories\", package = \"BiocManager\")' for details.\n",
      "Replacement repositories:\n",
      "    CRAN: https://cran.r-project.org\n",
      "\n",
      "Bioconductor version 3.18 (BiocManager 1.30.22), R 4.3.2 (2023-10-31)\n",
      "\n",
      "Installing package(s) 'topGO'\n",
      "\n",
      "also installing the dependency ‘SparseM’\n",
      "\n",
      "\n",
      "Updating HTML index of packages in '.Library'\n",
      "\n",
      "Making 'packages.html' ...\n",
      " done\n",
      "\n",
      "Old packages: 'beachmat', 'BH', 'Biostrings', 'callr', 'cowplot', 'curl',\n",
      "  'data.table', 'DBI', 'DOSE', 'DT', 'GenomeInfoDb', 'ggnewscale', 'GOSemSim',\n",
      "  'HDF5Array', 'MASS', 'parallelly', 'patchwork', 'RCurl', 'RSQLite',\n",
      "  'shadowtext', 'survival', 'tidygraph', 'tidytree', 'usethis', 'yulab.utils'\n",
      "\n"
     ]
    }
   ],
   "source": [
    "BiocManager::install(\"topGO\")"
   ]
  },
  {
   "cell_type": "code",
   "execution_count": 7,
   "id": "82b19681-5ac4-461a-abff-ed37ad7c9ad5",
   "metadata": {},
   "outputs": [
    {
     "name": "stderr",
     "output_type": "stream",
     "text": [
      "Loading required package: graph\n",
      "\n",
      "Loading required package: GO.db\n",
      "\n",
      "Loading required package: SparseM\n",
      "\n",
      "\n",
      "Attaching package: ‘SparseM’\n",
      "\n",
      "\n",
      "The following object is masked from ‘package:base’:\n",
      "\n",
      "    backsolve\n",
      "\n",
      "\n",
      "\n",
      "groupGOTerms: \tGOBPTerm, GOMFTerm, GOCCTerm environments built.\n",
      "\n",
      "\n",
      "Attaching package: ‘topGO’\n",
      "\n",
      "\n",
      "The following object is masked from ‘package:IRanges’:\n",
      "\n",
      "    members\n",
      "\n",
      "\n"
     ]
    }
   ],
   "source": [
    "library(topGO)"
   ]
  },
  {
   "cell_type": "code",
   "execution_count": 3,
   "id": "94c832aa-6e74-4cfe-9425-f734a85b8107",
   "metadata": {},
   "outputs": [
    {
     "name": "stderr",
     "output_type": "stream",
     "text": [
      "'getOption(\"repos\")' replaces Bioconductor standard repositories, see\n",
      "'help(\"repositories\", package = \"BiocManager\")' for details.\n",
      "Replacement repositories:\n",
      "    CRAN: https://cran.r-project.org\n",
      "\n",
      "Bioconductor version 3.18 (BiocManager 1.30.22), R 4.3.2 (2023-10-31)\n",
      "\n",
      "Installing package(s) 'ReactomePA'\n",
      "\n",
      "Updating HTML index of packages in '.Library'\n",
      "\n",
      "Making 'packages.html' ...\n",
      " done\n",
      "\n",
      "Old packages: 'beachmat', 'BH', 'Biostrings', 'callr', 'cowplot', 'curl',\n",
      "  'data.table', 'DBI', 'DOSE', 'DT', 'GenomeInfoDb', 'ggnewscale', 'GOSemSim',\n",
      "  'HDF5Array', 'MASS', 'parallelly', 'patchwork', 'RCurl', 'RSQLite',\n",
      "  'shadowtext', 'survival', 'tidygraph', 'tidytree', 'usethis', 'yulab.utils'\n",
      "\n"
     ]
    }
   ],
   "source": [
    "BiocManager::install(\"ReactomePA\",force = TRUE)\n",
    "library(ReactomePA)"
   ]
  },
  {
   "cell_type": "code",
   "execution_count": null,
   "id": "c11b3e71-922b-468b-85a4-872693b64778",
   "metadata": {},
   "outputs": [],
   "source": []
  }
 ],
 "metadata": {
  "kernelspec": {
   "display_name": "R 4.3",
   "language": "R",
   "name": "ir43"
  },
  "language_info": {
   "codemirror_mode": "r",
   "file_extension": ".r",
   "mimetype": "text/x-r-source",
   "name": "R",
   "pygments_lexer": "r",
   "version": "4.3.2"
  }
 },
 "nbformat": 4,
 "nbformat_minor": 5
}

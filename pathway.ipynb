{
 "cells": [
  {
   "cell_type": "code",
   "execution_count": 16,
   "id": "720684f9-84ea-4520-833f-2626f571563c",
   "metadata": {
    "collapsed": true,
    "jupyter": {
     "outputs_hidden": true
    }
   },
   "outputs": [
    {
     "name": "stderr",
     "output_type": "stream",
     "text": [
      "\n",
      "\n",
      "clusterProfiler v4.10.0  For help: https://yulab-smu.top/biomedical-knowledge-mining-book/\n",
      "\n",
      "If you use clusterProfiler in published research, please cite:\n",
      "T Wu, E Hu, S Xu, M Chen, P Guo, Z Dai, T Feng, L Zhou, W Tang, L Zhan, X Fu, S Liu, X Bo, and G Yu. clusterProfiler 4.0: A universal enrichment tool for interpreting omics data. The Innovation. 2021, 2(3):100141\n",
      "\n",
      "\n",
      "Attaching package: ‘clusterProfiler’\n",
      "\n",
      "\n",
      "The following object is masked from ‘package:AnnotationDbi’:\n",
      "\n",
      "    select\n",
      "\n",
      "\n",
      "The following object is masked from ‘package:IRanges’:\n",
      "\n",
      "    slice\n",
      "\n",
      "\n",
      "The following object is masked from ‘package:S4Vectors’:\n",
      "\n",
      "    rename\n",
      "\n",
      "\n",
      "The following object is masked from ‘package:stats’:\n",
      "\n",
      "    filter\n",
      "\n",
      "\n"
     ]
    }
   ],
   "source": [
    "#input the library\n",
    "library(pathview)\n",
    "library(org.Dm.eg.db)\n",
    "library(clusterProfiler)"
   ]
  },
  {
   "cell_type": "code",
   "execution_count": 33,
   "id": "9723ebb2-b16d-4703-a8e9-f14cd035554b",
   "metadata": {},
   "outputs": [
    {
     "data": {
      "text/html": [
       "<table class=\"dataframe\">\n",
       "<caption>A data.frame: 3 × 5</caption>\n",
       "<thead>\n",
       "\t<tr><th></th><th scope=col>name</th><th scope=col>logFC</th><th scope=col>logCPM</th><th scope=col>PValue</th><th scope=col>FDR</th></tr>\n",
       "\t<tr><th></th><th scope=col>&lt;chr&gt;</th><th scope=col>&lt;dbl&gt;</th><th scope=col>&lt;dbl&gt;</th><th scope=col>&lt;dbl&gt;</th><th scope=col>&lt;dbl&gt;</th></tr>\n",
       "</thead>\n",
       "<tbody>\n",
       "\t<tr><th scope=row>1</th><td>FBgn0001254</td><td> 10.967860</td><td>10.495947</td><td>3.162581e-196</td><td>3.296674e-192</td></tr>\n",
       "\t<tr><th scope=row>2</th><td>FBgn0037836</td><td>-10.193363</td><td> 6.846906</td><td>2.257809e-163</td><td>1.176770e-159</td></tr>\n",
       "\t<tr><th scope=row>3</th><td>FBgn0039795</td><td>  9.848162</td><td> 5.966366</td><td>1.173624e-132</td><td>4.077952e-129</td></tr>\n",
       "</tbody>\n",
       "</table>\n"
      ],
      "text/latex": [
       "A data.frame: 3 × 5\n",
       "\\begin{tabular}{r|lllll}\n",
       "  & name & logFC & logCPM & PValue & FDR\\\\\n",
       "  & <chr> & <dbl> & <dbl> & <dbl> & <dbl>\\\\\n",
       "\\hline\n",
       "\t1 & FBgn0001254 &  10.967860 & 10.495947 & 3.162581e-196 & 3.296674e-192\\\\\n",
       "\t2 & FBgn0037836 & -10.193363 &  6.846906 & 2.257809e-163 & 1.176770e-159\\\\\n",
       "\t3 & FBgn0039795 &   9.848162 &  5.966366 & 1.173624e-132 & 4.077952e-129\\\\\n",
       "\\end{tabular}\n"
      ],
      "text/markdown": [
       "\n",
       "A data.frame: 3 × 5\n",
       "\n",
       "| <!--/--> | name &lt;chr&gt; | logFC &lt;dbl&gt; | logCPM &lt;dbl&gt; | PValue &lt;dbl&gt; | FDR &lt;dbl&gt; |\n",
       "|---|---|---|---|---|---|\n",
       "| 1 | FBgn0001254 |  10.967860 | 10.495947 | 3.162581e-196 | 3.296674e-192 |\n",
       "| 2 | FBgn0037836 | -10.193363 |  6.846906 | 2.257809e-163 | 1.176770e-159 |\n",
       "| 3 | FBgn0039795 |   9.848162 |  5.966366 | 1.173624e-132 | 4.077952e-129 |\n",
       "\n"
      ],
      "text/plain": [
       "  name        logFC      logCPM    PValue        FDR          \n",
       "1 FBgn0001254  10.967860 10.495947 3.162581e-196 3.296674e-192\n",
       "2 FBgn0037836 -10.193363  6.846906 2.257809e-163 1.176770e-159\n",
       "3 FBgn0039795   9.848162  5.966366 1.173624e-132 4.077952e-129"
      ]
     },
     "metadata": {},
     "output_type": "display_data"
    },
    {
     "name": "stderr",
     "output_type": "stream",
     "text": [
      "'select()' returned 1:1 mapping between keys and columns\n",
      "\n",
      "Warning message in bitr(significant$name, fromType = \"FLYBASE\", toType = \"ENTREZID\", :\n",
      "“2.7% of input gene IDs are fail to map...”\n"
     ]
    },
    {
     "data": {
      "text/html": [
       "<table class=\"dataframe\">\n",
       "<caption>A data.frame: 6 × 2</caption>\n",
       "<thead>\n",
       "\t<tr><th></th><th scope=col>FLYBASE</th><th scope=col>ENTREZID</th></tr>\n",
       "\t<tr><th></th><th scope=col>&lt;chr&gt;</th><th scope=col>&lt;chr&gt;</th></tr>\n",
       "</thead>\n",
       "<tbody>\n",
       "\t<tr><th scope=row>1</th><td>FBgn0001254</td><td>38432</td></tr>\n",
       "\t<tr><th scope=row>2</th><td>FBgn0037836</td><td>41298</td></tr>\n",
       "\t<tr><th scope=row>3</th><td>FBgn0039795</td><td>43642</td></tr>\n",
       "\t<tr><th scope=row>4</th><td>FBgn0024294</td><td>45041</td></tr>\n",
       "\t<tr><th scope=row>5</th><td>FBgn0001255</td><td>48239</td></tr>\n",
       "\t<tr><th scope=row>6</th><td>FBgn0264562</td><td>31162</td></tr>\n",
       "</tbody>\n",
       "</table>\n"
      ],
      "text/latex": [
       "A data.frame: 6 × 2\n",
       "\\begin{tabular}{r|ll}\n",
       "  & FLYBASE & ENTREZID\\\\\n",
       "  & <chr> & <chr>\\\\\n",
       "\\hline\n",
       "\t1 & FBgn0001254 & 38432\\\\\n",
       "\t2 & FBgn0037836 & 41298\\\\\n",
       "\t3 & FBgn0039795 & 43642\\\\\n",
       "\t4 & FBgn0024294 & 45041\\\\\n",
       "\t5 & FBgn0001255 & 48239\\\\\n",
       "\t6 & FBgn0264562 & 31162\\\\\n",
       "\\end{tabular}\n"
      ],
      "text/markdown": [
       "\n",
       "A data.frame: 6 × 2\n",
       "\n",
       "| <!--/--> | FLYBASE &lt;chr&gt; | ENTREZID &lt;chr&gt; |\n",
       "|---|---|---|\n",
       "| 1 | FBgn0001254 | 38432 |\n",
       "| 2 | FBgn0037836 | 41298 |\n",
       "| 3 | FBgn0039795 | 43642 |\n",
       "| 4 | FBgn0024294 | 45041 |\n",
       "| 5 | FBgn0001255 | 48239 |\n",
       "| 6 | FBgn0264562 | 31162 |\n",
       "\n"
      ],
      "text/plain": [
       "  FLYBASE     ENTREZID\n",
       "1 FBgn0001254 38432   \n",
       "2 FBgn0037836 41298   \n",
       "3 FBgn0039795 43642   \n",
       "4 FBgn0024294 45041   \n",
       "5 FBgn0001255 48239   \n",
       "6 FBgn0264562 31162   "
      ]
     },
     "metadata": {},
     "output_type": "display_data"
    }
   ],
   "source": [
    "significant <- read.table(\"significant_id.txt\", header=TRUE, sep=\",\")#input data\n",
    "head(significant, n=3) #確認\n",
    "induction <- bitr(significant$name, fromType=\"FLYBASE\", toType=\"ENTREZID\", OrgDb=\"org.Dm.eg.db\") #比較できるようにIDをTAIRからENTREZIDに変換。\n",
    "head(induction)\n",
    "write.table(induction, file = \"a.txt\", col.names = T, row.names = T, sep = \",\", quote = F) #データを出力する。"
   ]
  },
  {
   "cell_type": "code",
   "execution_count": 34,
   "id": "7ec34acc-7c18-4f7b-a325-721ad9afcc25",
   "metadata": {},
   "outputs": [
    {
     "data": {
      "text/html": [
       "<table class=\"dataframe\">\n",
       "<caption>A data.frame: 6 × 3</caption>\n",
       "<thead>\n",
       "\t<tr><th></th><th scope=col>id</th><th scope=col>entrez</th><th scope=col>logFC</th></tr>\n",
       "\t<tr><th></th><th scope=col>&lt;chr&gt;</th><th scope=col>&lt;int&gt;</th><th scope=col>&lt;dbl&gt;</th></tr>\n",
       "</thead>\n",
       "<tbody>\n",
       "\t<tr><th scope=row>1</th><td>FBgn0001254</td><td>38432</td><td> 10.967860</td></tr>\n",
       "\t<tr><th scope=row>2</th><td>FBgn0037836</td><td>41298</td><td>-10.193363</td></tr>\n",
       "\t<tr><th scope=row>3</th><td>FBgn0039795</td><td>43642</td><td>  9.848162</td></tr>\n",
       "\t<tr><th scope=row>4</th><td>FBgn0024294</td><td>45041</td><td>  7.469046</td></tr>\n",
       "\t<tr><th scope=row>5</th><td>FBgn0001255</td><td>48239</td><td>  6.685115</td></tr>\n",
       "\t<tr><th scope=row>6</th><td>FBgn0264562</td><td>31162</td><td>  6.440536</td></tr>\n",
       "</tbody>\n",
       "</table>\n"
      ],
      "text/latex": [
       "A data.frame: 6 × 3\n",
       "\\begin{tabular}{r|lll}\n",
       "  & id & entrez & logFC\\\\\n",
       "  & <chr> & <int> & <dbl>\\\\\n",
       "\\hline\n",
       "\t1 & FBgn0001254 & 38432 &  10.967860\\\\\n",
       "\t2 & FBgn0037836 & 41298 & -10.193363\\\\\n",
       "\t3 & FBgn0039795 & 43642 &   9.848162\\\\\n",
       "\t4 & FBgn0024294 & 45041 &   7.469046\\\\\n",
       "\t5 & FBgn0001255 & 48239 &   6.685115\\\\\n",
       "\t6 & FBgn0264562 & 31162 &   6.440536\\\\\n",
       "\\end{tabular}\n"
      ],
      "text/markdown": [
       "\n",
       "A data.frame: 6 × 3\n",
       "\n",
       "| <!--/--> | id &lt;chr&gt; | entrez &lt;int&gt; | logFC &lt;dbl&gt; |\n",
       "|---|---|---|---|\n",
       "| 1 | FBgn0001254 | 38432 |  10.967860 |\n",
       "| 2 | FBgn0037836 | 41298 | -10.193363 |\n",
       "| 3 | FBgn0039795 | 43642 |   9.848162 |\n",
       "| 4 | FBgn0024294 | 45041 |   7.469046 |\n",
       "| 5 | FBgn0001255 | 48239 |   6.685115 |\n",
       "| 6 | FBgn0264562 | 31162 |   6.440536 |\n",
       "\n"
      ],
      "text/plain": [
       "  id          entrez logFC     \n",
       "1 FBgn0001254 38432   10.967860\n",
       "2 FBgn0037836 41298  -10.193363\n",
       "3 FBgn0039795 43642    9.848162\n",
       "4 FBgn0024294 45041    7.469046\n",
       "5 FBgn0001255 48239    6.685115\n",
       "6 FBgn0264562 31162    6.440536"
      ]
     },
     "metadata": {},
     "output_type": "display_data"
    }
   ],
   "source": [
    "sig <- read.csv(\"deg.csv\",header = TRUE,sep = \",\")#input data\n",
    "head(sig)#show the data"
   ]
  },
  {
   "cell_type": "code",
   "execution_count": 47,
   "id": "0dedee55-94f6-4599-9d33-efd92780b8f7",
   "metadata": {},
   "outputs": [
    {
     "data": {
      "text/html": [
       "<table class=\"dataframe\">\n",
       "<caption>A data.frame: 6 × 1</caption>\n",
       "<thead>\n",
       "\t<tr><th></th><th scope=col>V1</th></tr>\n",
       "\t<tr><th></th><th scope=col>&lt;chr&gt;</th></tr>\n",
       "</thead>\n",
       "<tbody>\n",
       "\t<tr><th scope=row>1</th><td>dme01100</td></tr>\n",
       "\t<tr><th scope=row>2</th><td>dme01200</td></tr>\n",
       "\t<tr><th scope=row>3</th><td>dme01210</td></tr>\n",
       "\t<tr><th scope=row>4</th><td>dme01212</td></tr>\n",
       "\t<tr><th scope=row>5</th><td>dme01230</td></tr>\n",
       "\t<tr><th scope=row>6</th><td>dme01232</td></tr>\n",
       "</tbody>\n",
       "</table>\n"
      ],
      "text/latex": [
       "A data.frame: 6 × 1\n",
       "\\begin{tabular}{r|l}\n",
       "  & V1\\\\\n",
       "  & <chr>\\\\\n",
       "\\hline\n",
       "\t1 & dme01100\\\\\n",
       "\t2 & dme01200\\\\\n",
       "\t3 & dme01210\\\\\n",
       "\t4 & dme01212\\\\\n",
       "\t5 & dme01230\\\\\n",
       "\t6 & dme01232\\\\\n",
       "\\end{tabular}\n"
      ],
      "text/markdown": [
       "\n",
       "A data.frame: 6 × 1\n",
       "\n",
       "| <!--/--> | V1 &lt;chr&gt; |\n",
       "|---|---|\n",
       "| 1 | dme01100 |\n",
       "| 2 | dme01200 |\n",
       "| 3 | dme01210 |\n",
       "| 4 | dme01212 |\n",
       "| 5 | dme01230 |\n",
       "| 6 | dme01232 |\n",
       "\n"
      ],
      "text/plain": [
       "  V1      \n",
       "1 dme01100\n",
       "2 dme01200\n",
       "3 dme01210\n",
       "4 dme01212\n",
       "5 dme01230\n",
       "6 dme01232"
      ]
     },
     "metadata": {},
     "output_type": "display_data"
    },
    {
     "data": {
      "text/html": [
       "<style>\n",
       ".dl-inline {width: auto; margin:0; padding: 0}\n",
       ".dl-inline>dt, .dl-inline>dd {float: none; width: auto; display: inline-block}\n",
       ".dl-inline>dt::after {content: \":\\0020\"; padding-right: .5ex}\n",
       ".dl-inline>dt:not(:first-of-type) {padding-left: .5ex}\n",
       "</style><dl class=dl-inline><dt>38432</dt><dd>10.96785991</dd><dt>41298</dt><dd>-10.19336257</dd><dt>43642</dt><dd>9.848162186</dd><dt>45041</dt><dd>7.46904598</dd><dt>48239</dt><dd>6.68511514</dd><dt>31162</dt><dd>6.440536123</dd></dl>\n"
      ],
      "text/latex": [
       "\\begin{description*}\n",
       "\\item[38432] 10.96785991\n",
       "\\item[41298] -10.19336257\n",
       "\\item[43642] 9.848162186\n",
       "\\item[45041] 7.46904598\n",
       "\\item[48239] 6.68511514\n",
       "\\item[31162] 6.440536123\n",
       "\\end{description*}\n"
      ],
      "text/markdown": [
       "38432\n",
       ":   10.9678599141298\n",
       ":   -10.1933625743642\n",
       ":   9.84816218645041\n",
       ":   7.4690459848239\n",
       ":   6.6851151431162\n",
       ":   6.440536123\n",
       "\n"
      ],
      "text/plain": [
       "     38432      41298      43642      45041      48239      31162 \n",
       " 10.967860 -10.193363   9.848162   7.469046   6.685115   6.440536 "
      ]
     },
     "metadata": {},
     "output_type": "display_data"
    },
    {
     "name": "stderr",
     "output_type": "stream",
     "text": [
      "Info: Getting gene ID data from KEGG...\n",
      "\n",
      "Info: Done with data retrieval!\n",
      "\n",
      "Info: Working in directory /home/igaki-lab/scrib\n",
      "\n",
      "Info: Writing image file dme04144.pathview.png\n",
      "\n",
      "Info: some node width is different from others, and hence adjusted!\n",
      "\n",
      "Info: Getting gene ID data from KEGG...\n",
      "\n",
      "Info: Done with data retrieval!\n",
      "\n",
      "Info: Working in directory /home/igaki-lab/scrib\n",
      "\n",
      "Info: Writing image file dme01100.pathview.png\n",
      "\n",
      "Info: some node width is different from others, and hence adjusted!\n",
      "\n"
     ]
    },
    {
     "ename": "ERROR",
     "evalue": "Error in array(col.rgb[, i], dim(node.rgb)[3:1]): negative length vectors are not allowed\n",
     "output_type": "error",
     "traceback": [
      "Error in array(col.rgb[, i], dim(node.rgb)[3:1]): negative length vectors are not allowed\nTraceback:\n",
      "1. pathview(gene.data = genelist, pathway.id = unlist(IDlist), species = \"dme\", \n .     gene.idtype = \"ENTREZ\")",
      "2. keggview.native(plot.data.gene = plot.data.gene, cols.ts.gene = cols.ts.gene, \n .     plot.data.cpd = plot.data.cpd, cols.ts.cpd = cols.ts.cpd, \n .     node.data = node.data, pathway.name = pathway.name[i], kegg.dir = kegg.dir, \n .     limit = limit, bins = bins, both.dirs = both.dirs, discrete = discrete, \n .     low = low, mid = mid, high = high, na.col = na.col, ...)",
      "3. render.kegg.node(plot.data.gene, cols.gene.plot, img, same.layer = same.layer, \n .     type = \"gene\")",
      "4. array(col.rgb[, i], dim(node.rgb)[3:1])"
     ]
    }
   ],
   "source": [
    "IDlist <- read.table(\"pathway_id\", header=FALSE) #pathway IDを読み込みgenelist <- as.vector(significant$logFC) "
   ]
  },
  {
   "cell_type": "code",
   "execution_count": 2,
   "id": "fc5e66e5-1306-46ba-93f6-a47950a8323a",
   "metadata": {},
   "outputs": [
    {
     "ename": "ERROR",
     "evalue": "Error in eval(expr, envir, enclos): object 'sig' not found\n",
     "output_type": "error",
     "traceback": [
      "Error in eval(expr, envir, enclos): object 'sig' not found\nTraceback:\n",
      "1. as.vector(sig$logFC)"
     ]
    }
   ],
   "source": [
    "IDlist <- read.table(\"pathway_id\", header=FALSE)#input the pathway id list\n",
    "genelist <- as.vector(sig$logFC) \n",
    "names(genelist) <- as.vector(sig$entrez)\n",
    "head(genelist)\n",
    "path.id <- \"04711\" #input the pathway id of KEGG pathway\n",
    "path <- pathview(gene.data = genelist, pathway.id = path.id, species = \"dme\", gene.idtype = \"ENTREZ\")\n",
    "#path2 <- pathview(gene.data = genelist, pathway.id = unlist(IDlist), species = \"dme\", gene.idtype = \"ENTREZ\")"
   ]
  },
  {
   "cell_type": "code",
   "execution_count": null,
   "id": "b1433f33-a390-42e2-bed9-1bb15810c410",
   "metadata": {},
   "outputs": [],
   "source": []
  },
  {
   "cell_type": "code",
   "execution_count": null,
   "id": "56469fe4-dd28-41d3-aac5-21119a4e30b7",
   "metadata": {},
   "outputs": [],
   "source": []
  }
 ],
 "metadata": {
  "kernelspec": {
   "display_name": "R 4.3",
   "language": "R",
   "name": "ir43"
  },
  "language_info": {
   "codemirror_mode": "r",
   "file_extension": ".r",
   "mimetype": "text/x-r-source",
   "name": "R",
   "pygments_lexer": "r",
   "version": "4.3.2"
  }
 },
 "nbformat": 4,
 "nbformat_minor": 5
}
